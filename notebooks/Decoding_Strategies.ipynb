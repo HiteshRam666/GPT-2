{
 "cells": [
  {
   "cell_type": "code",
   "execution_count": 1,
   "id": "51058d8d",
   "metadata": {},
   "outputs": [],
   "source": [
    "import torch \n",
    "import torch.nn as nn"
   ]
  },
  {
   "cell_type": "markdown",
   "id": "09c2a404",
   "metadata": {},
   "source": [
    "## DECODING STRATEGIES TO CONTROL RANDOMNESS"
   ]
  },
  {
   "cell_type": "markdown",
   "id": "373c9ce7",
   "metadata": {},
   "source": [
    "# DECODING STRATEGY 1: TEMPERATURE SCALING"
   ]
  },
  {
   "cell_type": "markdown",
   "id": "8a8e2a55",
   "metadata": {},
   "source": [
    "### **Temperature scaling is a technique used to control the \"confidence\" or \"smoothness\" of a probability distribution, especially in the output of a softmax.**"
   ]
  },
  {
   "cell_type": "markdown",
   "id": "5106cf20",
   "metadata": {},
   "source": [
    "- T=1\tNormal softmax\n",
    "\n",
    "- T<1\tDistribution becomes sharper (more confident — more \"peaky\")\n",
    "\n",
    "- T>1\tDistribution becomes smoother (more uniform, less confident)\n"
   ]
  },
  {
   "cell_type": "markdown",
   "id": "66170116",
   "metadata": {},
   "source": [
    "**Say logits (before softmax): [2, 1, 0].**\n",
    "\n",
    "- Normal softmax (T = 1) → very confident on highest logit.\n",
    "\n",
    "- T = 0.5 → even sharper; highest probability even higher.\n",
    "\n",
    "- T = 2 → smoother; probabilities closer to each other."
   ]
  },
  {
   "cell_type": "markdown",
   "id": "0c42e58d",
   "metadata": {},
   "source": [
    "\n",
    "Previously, inside the generate_text_simple function, we always sampled the token\n",
    "with the highest probability as the next token using torch.argmax, also known as greedy\n",
    "decoding. \n",
    "\n",
    "To generate text with more variety, we can replace the argmax with a function\n",
    "that samples from a probability distribution (here, the probability scores the LLM generates\n",
    "for each vocabulary entry at each token generation step).\n"
   ]
  },
  {
   "cell_type": "code",
   "execution_count": 2,
   "id": "b92005b8",
   "metadata": {},
   "outputs": [],
   "source": [
    "vocab = { \n",
    "    \"closer\": 0,\n",
    "    \"every\": 1, \n",
    "    \"effort\": 2, \n",
    "    \"forward\": 3,\n",
    "    \"inches\": 4,\n",
    "    \"moves\": 5, \n",
    "    \"pizza\": 6,\n",
    "    \"toward\": 7,\n",
    "    \"you\": 8,\n",
    "}\n",
    "\n",
    "inverse_vocab = {v:k for k, v in vocab.items()}"
   ]
  },
  {
   "cell_type": "code",
   "execution_count": 3,
   "id": "9a7acc90",
   "metadata": {},
   "outputs": [
    {
     "data": {
      "text/plain": [
       "{0: 'closer',\n",
       " 1: 'every',\n",
       " 2: 'effort',\n",
       " 3: 'forward',\n",
       " 4: 'inches',\n",
       " 5: 'moves',\n",
       " 6: 'pizza',\n",
       " 7: 'toward',\n",
       " 8: 'you'}"
      ]
     },
     "execution_count": 3,
     "metadata": {},
     "output_type": "execute_result"
    }
   ],
   "source": [
    "inverse_vocab"
   ]
  },
  {
   "cell_type": "code",
   "execution_count": 4,
   "id": "d660ab06",
   "metadata": {},
   "outputs": [],
   "source": [
    "# Next, assume the LLM is given the start context \"every effort moves you\" and generates the following next-token logits:\n",
    "next_token_logits = torch.tensor(\n",
    "[4.51, 0.89, -1.90, 6.75, 1.63, -1.62, -1.89, 6.28, 1.79]\n",
    ")\n",
    "\n",
    "next_token_logits2 = next_token_logits / 0.1\n",
    "next_token_logits3 = next_token_logits / 5"
   ]
  },
  {
   "cell_type": "code",
   "execution_count": 5,
   "id": "69d9bb94",
   "metadata": {},
   "outputs": [
    {
     "name": "stdout",
     "output_type": "stream",
     "text": [
      "tensor([1.8530e-10, 3.5189e-26, 2.6890e-38, 9.9099e-01, 5.7569e-23, 4.4220e-37,\n",
      "        2.9718e-38, 9.0133e-03, 2.8514e-22])\n"
     ]
    }
   ],
   "source": [
    "probas = torch.softmax(next_token_logits2, dim = 0)\n",
    "print(probas)"
   ]
  },
  {
   "cell_type": "code",
   "execution_count": 6,
   "id": "e152045f",
   "metadata": {},
   "outputs": [
    {
     "name": "stdout",
     "output_type": "stream",
     "text": [
      "tensor([0.1546, 0.0750, 0.0429, 0.2421, 0.0869, 0.0454, 0.0430, 0.2203, 0.0898])\n"
     ]
    }
   ],
   "source": [
    "probas = torch.softmax(next_token_logits3, dim = 0)\n",
    "print(probas)"
   ]
  },
  {
   "cell_type": "code",
   "execution_count": 7,
   "id": "cfd44a30",
   "metadata": {},
   "outputs": [
    {
     "name": "stdout",
     "output_type": "stream",
     "text": [
      "tensor([6.0907e-02, 1.6313e-03, 1.0019e-04, 5.7212e-01, 3.4190e-03, 1.3257e-04,\n",
      "        1.0120e-04, 3.5758e-01, 4.0122e-03])\n",
      "3\n",
      "forward\n"
     ]
    }
   ],
   "source": [
    "probas = torch.softmax(next_token_logits, dim = 0)\n",
    "print(probas)\n",
    "next_token_id = torch.argmax(probas).item()\n",
    "print(next_token_id)\n",
    "print(inverse_vocab[next_token_id])"
   ]
  },
  {
   "cell_type": "markdown",
   "id": "04ad0e93",
   "metadata": {},
   "source": [
    "To implement a probabilistic sampling process, we can now replace the argmax with the multinomial function in PyTorch:"
   ]
  },
  {
   "cell_type": "code",
   "execution_count": 8,
   "id": "84f429dc",
   "metadata": {},
   "outputs": [
    {
     "name": "stdout",
     "output_type": "stream",
     "text": [
      "forward\n"
     ]
    }
   ],
   "source": [
    "torch.manual_seed(123)\n",
    "next_token_id = torch.multinomial(probas, num_samples=1).item() \n",
    "print(inverse_vocab[next_token_id])"
   ]
  },
  {
   "cell_type": "markdown",
   "id": "cd7f0a8c",
   "metadata": {},
   "source": [
    "The printed output is \"forward\" just like before. What happened? The multinomial function samples the next token proportional to its probability score.\n",
    "\n",
    "In other words, \"forward\" is still the most likely token and will be selected by multinomial most of the time but not all the time.\n",
    "\n",
    "To illustrate this, implementing a function that repeats this sampling 1000 times:"
   ]
  },
  {
   "cell_type": "code",
   "execution_count": 9,
   "id": "fd506abe",
   "metadata": {},
   "outputs": [
    {
     "name": "stdout",
     "output_type": "stream",
     "text": [
      "73 x closer\n",
      "0 x every\n",
      "0 x effort\n",
      "581 x forward\n",
      "2 x inches\n",
      "0 x moves\n",
      "0 x pizza\n",
      "344 x toward\n",
      "None\n"
     ]
    }
   ],
   "source": [
    "def print_sample_tokens(probas):\n",
    "    sample = [torch.multinomial(probas, num_samples=1).item() for i in range(1000)]\n",
    "    sample_ids = torch.bincount(torch.tensor(sample)) # Calculates the freq of tensors\n",
    "    for i, freq in enumerate(sample_ids):\n",
    "        print(f\"{freq} x {inverse_vocab[i]}\") \n",
    "\n",
    "print(print_sample_tokens(probas))\n"
   ]
  },
  {
   "cell_type": "markdown",
   "id": "388f8d71",
   "metadata": {},
   "source": [
    "As we can see based on the output, the word \"forward\" is sampled most of the time (582\n",
    "out of 1000 times), but other tokens such as \"closer\", \"inches\", and \"toward\" will also\n",
    "be sampled some of the time. \n",
    "\n",
    "This means that if we replaced the argmax function with the\n",
    "multinomial function inside the generate_and_print_sample function, the LLM would\n",
    "sometimes generate texts such as \"every effort moves you toward\", \"every effort\n",
    "moves you inches\", and \"every effort moves you closer\" instead of \"every effort\n",
    "moves you forward\"."
   ]
  },
  {
   "cell_type": "markdown",
   "id": "8b77ea5c",
   "metadata": {},
   "source": [
    "We can further control the distribution and selection process via a concept called\n",
    "temperature scaling, where temperature scaling is just a fancy description for dividing the\n",
    "logits by a number greater than 0:"
   ]
  },
  {
   "cell_type": "markdown",
   "id": "27f2d5ff",
   "metadata": {},
   "source": [
    "Temperatures greater than 1 result in more uniformly distributed token probabilities,\n",
    "and Temperatures smaller than 1 will result in more confident (sharper or more peaky)\n",
    "distributions.\n",
    "\n",
    "Let's illustrate this by plotting the original probabilities alongside\n",
    "probabilities scaled with different temperature values:"
   ]
  },
  {
   "cell_type": "code",
   "execution_count": 10,
   "id": "e8231a87",
   "metadata": {},
   "outputs": [
    {
     "data": {
      "text/plain": [
       "tensor([ 4.5100,  0.8900, -1.9000,  6.7500,  1.6300, -1.6200, -1.8900,  6.2800,\n",
       "         1.7900])"
      ]
     },
     "execution_count": 10,
     "metadata": {},
     "output_type": "execute_result"
    }
   ],
   "source": [
    "next_token_logits"
   ]
  },
  {
   "cell_type": "code",
   "execution_count": 11,
   "id": "007465b5",
   "metadata": {},
   "outputs": [],
   "source": [
    "def softmax_with_temperature(logits, temperature):\n",
    "    scaled_logits = logits / temperature \n",
    "    return torch.softmax(scaled_logits, dim = 0)\n",
    "\n",
    "# Temperature values \n",
    "temperature = [1, 0.1, 5] # Original, higher confidence, and lower confidence\n",
    "\n",
    "# Calculate scaled probabilities \n",
    "scaled_probs = [softmax_with_temperature(next_token_logits, T) for T in temperature]"
   ]
  },
  {
   "cell_type": "code",
   "execution_count": 12,
   "id": "e69e98a1",
   "metadata": {},
   "outputs": [
    {
     "data": {
      "image/png": "[encoded data removed]",
      "text/plain": [
       "<Figure size 500x300 with 1 Axes>"
      ]
     },
     "metadata": {},
     "output_type": "display_data"
    }
   ],
   "source": [
    "import matplotlib.pyplot as plt \n",
    "\n",
    "x = torch.arange(len(vocab))\n",
    "bar_width = 0.15\n",
    "\n",
    "fig, ax = plt.subplots(figsize = (5, 3))\n",
    "for i, T in enumerate(temperature):\n",
    "    rects = ax.bar(x + i * bar_width, scaled_probs[i], bar_width, label = f\"Temperature = {T}\")\n",
    "\n",
    "ax.set_ylabel('Probability')\n",
    "ax.set_xticks(x)\n",
    "ax.set_xticklabels(vocab.keys(), rotation=90)\n",
    "ax.legend()\n",
    "\n",
    "plt.tight_layout()\n",
    "plt.show()"
   ]
  },
  {
   "cell_type": "markdown",
   "id": "2c55b739",
   "metadata": {},
   "source": [
    "A temperature of 1 divides the logits by 1 before passing them to the softmax function to\n",
    "compute the probability scores. \n",
    "\n",
    "In other words, using a temperature of 1 is the same as not\n",
    "using any temperature scaling. \n",
    "\n",
    "In this case, the tokens are selected with a probability equal\n",
    "to the original softmax probability scores via the multinomial sampling function in PyTorch.  "
   ]
  },
  {
   "cell_type": "markdown",
   "id": "23e52d0d",
   "metadata": {},
   "source": [
    "Applying very small temperatures, such as 0.1, will\n",
    "result in sharper distributions such that the behavior of the multinomial function selects\n",
    "the most likely token (here: \"forward\") almost 100% of the time, approaching the\n",
    "behavior of the argmax function. \n",
    "\n",
    "Vice versa, a temperature of 5 results in a more uniform\n",
    "distribution where other tokens are selected more often. \n",
    "\n",
    "This can add more variety to the\n",
    "generated texts but also more often results in nonsensical text. \n",
    "\n",
    "For example, using the\n",
    "temperature of 5 results in texts such as \"every effort moves you pizza\" about 4% of\n",
    "the time."
   ]
  },
  {
   "cell_type": "code",
   "execution_count": 13,
   "id": "6a60eb8a",
   "metadata": {},
   "outputs": [
    {
     "name": "stdout",
     "output_type": "stream",
     "text": [
      "Scaled logits: tensor([2.8571, 1.4286, 0.1429, 0.7143])\n",
      "Probabilities: tensor([0.7026, 0.1684, 0.0466, 0.0824])\n",
      "Sampled token index: 1\n"
     ]
    }
   ],
   "source": [
    "# Example logits from a model (size: vocab_size)\n",
    "logits = torch.tensor([2.0, 1.0, 0.1, 0.5])  # (shape: [vocab_size])\n",
    "temperature = 0.7\n",
    "\n",
    "# Scale logits by temperature\n",
    "scaled_logits = logits / temperature\n",
    "\n",
    "# Convert to probabilities using softmax\n",
    "probs = torch.softmax(scaled_logits, dim=-1)\n",
    "\n",
    "# Sample one token index from the distribution\n",
    "token_id = torch.multinomial(probs, num_samples=1)\n",
    "\n",
    "print(\"Scaled logits:\", scaled_logits)\n",
    "print(\"Probabilities:\", probs)\n",
    "print(\"Sampled token index:\", token_id.item())\n"
   ]
  },
  {
   "cell_type": "markdown",
   "id": "35bdcfea",
   "metadata": {},
   "source": [
    "# DECODING STRATEGY 2: Top-k sampling"
   ]
  },
  {
   "cell_type": "markdown",
   "id": "d54f3a6e",
   "metadata": {},
   "source": [
    "In the previous section, we implemented a probabilistic sampling approach coupled with\n",
    "temperature scaling to increase the diversity of the outputs. \n",
    "\n",
    "We saw that higher\n",
    "temperature values result in more uniformly distributed next-token probabilities, which\n",
    "result in more diverse outputs as it reduces the likelihood of the model repeatedly selecting\n",
    "the most probable token. \n",
    "\n",
    "This method allows for exploring less likely but potentially more\n",
    "interesting and creative paths in the generation process. \n",
    "\n",
    "However, One downside of this\n",
    "approach is that it sometimes leads to grammatically incorrect or completely nonsensical\n",
    "outputs such as \"every effort moves you pizza\"."
   ]
  },
  {
   "cell_type": "markdown",
   "id": "cbb365fd",
   "metadata": {},
   "source": [
    "Top-k sampling, when\n",
    "combined with probabilistic sampling and temperature scaling, can improve the text\n",
    "generation results.\n",
    "\n",
    "In top-k sampling, we can restrict the sampled tokens to the top-k most likely tokens\n",
    "and exclude all other tokens from the selection process by masking their probability scores."
   ]
  },
  {
   "cell_type": "code",
   "execution_count": 14,
   "id": "600b0501",
   "metadata": {},
   "outputs": [
    {
     "name": "stdout",
     "output_type": "stream",
     "text": [
      "Top Logits: tensor([6.7500, 6.2800, 4.5100])\n",
      "Top Positions: tensor([3, 7, 0])\n"
     ]
    }
   ],
   "source": [
    "top_k = 3 \n",
    "top_logits, top_pos = torch.topk(next_token_logits, top_k)\n",
    "print(f\"Top Logits: {top_logits}\")\n",
    "print(f\"Top Positions: {top_pos}\")"
   ]
  },
  {
   "cell_type": "markdown",
   "id": "fdbc6987",
   "metadata": {},
   "source": [
    "logit values of tokens that are below the lowest logit value within our top-3 selection to negative infinity (-inf)."
   ]
  },
  {
   "cell_type": "code",
   "execution_count": 15,
   "id": "659596fe",
   "metadata": {},
   "outputs": [
    {
     "name": "stdout",
     "output_type": "stream",
     "text": [
      "tensor([4.5100,   -inf,   -inf, 6.7500,   -inf,   -inf,   -inf, 6.2800,   -inf])\n"
     ]
    }
   ],
   "source": [
    "new_logits = torch.where(\n",
    "    condition=next_token_logits < top_logits[-1],\n",
    "    input=torch.tensor(float(\"-inf\")), \n",
    "    other=next_token_logits\n",
    ")\n",
    "\n",
    "print(new_logits)"
   ]
  },
  {
   "cell_type": "code",
   "execution_count": 16,
   "id": "a923d5e0",
   "metadata": {},
   "outputs": [
    {
     "name": "stdout",
     "output_type": "stream",
     "text": [
      "tensor([0.0615, 0.0000, 0.0000, 0.5775, 0.0000, 0.0000, 0.0000, 0.3610, 0.0000])\n"
     ]
    }
   ],
   "source": [
    "topk_probas = torch.softmax(new_logits, dim = 0)\n",
    "print(topk_probas)"
   ]
  },
  {
   "cell_type": "markdown",
   "id": "b7e553ca",
   "metadata": {},
   "source": [
    "### Merge Temperature Scaling and Top-k sampling"
   ]
  },
  {
   "cell_type": "code",
   "execution_count": 17,
   "id": "e3b833cb",
   "metadata": {},
   "outputs": [],
   "source": [
    "import sys\n",
    "import os\n",
    "sys.path.append(os.path.abspath(\"..\"))"
   ]
  },
  {
   "cell_type": "code",
   "execution_count": 20,
   "id": "d7af8db8",
   "metadata": {},
   "outputs": [],
   "source": [
    "from GPT.Text_Generation import generate\n",
    "from GPT.GPT_Model import GPTModel\n",
    "from GPT.Tokenization import text_to_tokens, token_to_text\n",
    "import tiktoken\n",
    "import json"
   ]
  },
  {
   "cell_type": "code",
   "execution_count": 21,
   "id": "463df6b4",
   "metadata": {},
   "outputs": [],
   "source": [
    "with open(\"../GPT_Model_Configuration/GPT_config_355M.json\", \"r\") as f:\n",
    "    GPT_CONFIG_355M = json.load(f)"
   ]
  },
  {
   "cell_type": "code",
   "execution_count": 23,
   "id": "8d405895",
   "metadata": {},
   "outputs": [],
   "source": [
    "model = GPTModel(GPT_CONFIG_355M)\n",
    "tokenizer = tiktoken.get_encoding('gpt2')"
   ]
  },
  {
   "cell_type": "code",
   "execution_count": 24,
   "id": "9a70158e",
   "metadata": {},
   "outputs": [],
   "source": [
    "token_ids = generate(\n",
    "    model=model, \n",
    "    idx = text_to_tokens(\"Every efforts moves you\", tokenizer=tokenizer),\n",
    "    max_new_tokens=15, \n",
    "    context_size=GPT_CONFIG_355M[\"context_length\"], \n",
    "    top_k = 25, \n",
    "    temperature=1.4\n",
    ")"
   ]
  },
  {
   "cell_type": "code",
   "execution_count": 25,
   "id": "9857d3fc",
   "metadata": {},
   "outputs": [
    {
     "data": {
      "text/plain": [
       "tensor([[ 6109,  4040,  6100,   345, 48664, 36925, 30343, 49826, 18703,  7071,\n",
       "         35615, 42095, 25975, 33678, 27010, 21476, 34328, 34002, 42493]])"
      ]
     },
     "execution_count": 25,
     "metadata": {},
     "output_type": "execute_result"
    }
   ],
   "source": [
    "token_ids"
   ]
  },
  {
   "cell_type": "code",
   "execution_count": 26,
   "id": "a7e4d8f8",
   "metadata": {},
   "outputs": [
    {
     "name": "stdout",
     "output_type": "stream",
     "text": [
      "Output Text:\n",
      " Every efforts moves you Tend Bowser overflowiliate increment interface Violent Guptaigatorsdelete inflicted…] astounding leveFel\n"
     ]
    }
   ],
   "source": [
    "print(f\"Output Text:\\n {token_to_text(token_ids, tokenizer)}\")"
   ]
  }
 ],
 "metadata": {
  "kernelspec": {
   "display_name": "venv",
   "language": "python",
   "name": "python3"
  },
  "language_info": {
   "codemirror_mode": {
    "name": "ipython",
    "version": 3
   },
   "file_extension": ".py",
   "mimetype": "text/x-python",
   "name": "python",
   "nbconvert_exporter": "python",
   "pygments_lexer": "ipython3",
   "version": "3.10.11"
  }
 },
 "nbformat": 4,
 "nbformat_minor": 5
}
