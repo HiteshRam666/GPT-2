{
 "cells": [
  {
   "cell_type": "markdown",
   "id": "3f2e3b48",
   "metadata": {},
   "source": [
    "## **Data Loading**"
   ]
  },
  {
   "cell_type": "code",
   "execution_count": 1,
   "id": "ab6e89b0",
   "metadata": {},
   "outputs": [],
   "source": [
    "import sys\n",
    "import os\n",
    "sys.path.append(os.path.abspath(\"..\"))"
   ]
  },
  {
   "cell_type": "code",
   "execution_count": 2,
   "id": "c92a68a5",
   "metadata": {},
   "outputs": [],
   "source": [
    "import urllib.request\n",
    "import ssl\n",
    "import zipfile\n",
    "import os\n",
    "from pathlib import Path\n",
    "\n",
    "url = \"https://archive.ics.uci.edu/static/public/228/sms+spam+collection.zip\"\n",
    "zip_path = \"sms_spam_collection.zip\"\n",
    "extracted_path = \"sms_spam_collection\"\n",
    "data_file_path = Path(extracted_path) / \"SMSSpamCollection.tsv\"\n",
    "\n",
    "def download_and_unzip_spam_data(url, zip_path, extracted_path, data_file_path):\n",
    "    if data_file_path.exists():\n",
    "        print(f\"{data_file_path} already exists. Skipping download and extraction.\")\n",
    "        return\n",
    "\n",
    "    # Create an unverified SSL context\n",
    "    ssl_context = ssl._create_unverified_context()\n",
    "\n",
    "    # Downloading the file\n",
    "    with urllib.request.urlopen(url, context=ssl_context) as response:\n",
    "        with open(zip_path, \"wb\") as out_file:\n",
    "            out_file.write(response.read())\n",
    "\n",
    "    # Unzipping the file\n",
    "    with zipfile.ZipFile(zip_path, \"r\") as zip_ref:\n",
    "        zip_ref.extractall(extracted_path)\n",
    "\n",
    "    # Add .tsv file extension\n",
    "    original_file_path = Path(extracted_path) / \"SMSSpamCollection\"\n",
    "    os.rename(original_file_path, data_file_path)\n",
    "    print(f\"File downloaded and saved as {data_file_path}\")"
   ]
  },
  {
   "cell_type": "code",
   "execution_count": 3,
   "id": "fd3ec729",
   "metadata": {},
   "outputs": [
    {
     "name": "stdout",
     "output_type": "stream",
     "text": [
      "sms_spam_collection\\SMSSpamCollection.tsv already exists. Skipping download and extraction.\n"
     ]
    }
   ],
   "source": [
    "download_and_unzip_spam_data(url, zip_path, extracted_path, data_file_path)"
   ]
  },
  {
   "cell_type": "markdown",
   "id": "7eea90b4",
   "metadata": {},
   "source": [
    "## **Data Preprocessing**"
   ]
  },
  {
   "cell_type": "code",
   "execution_count": 4,
   "id": "eb6992c9",
   "metadata": {},
   "outputs": [],
   "source": [
    "import pandas as pd \n",
    "df = pd.read_csv(data_file_path, sep='\\t', names=[\"Label\", \"Text\"], header=None)"
   ]
  },
  {
   "cell_type": "code",
   "execution_count": 5,
   "id": "1bcd75b1",
   "metadata": {},
   "outputs": [
    {
     "data": {
      "text/html": [
       "<div>\n",
       "<style scoped>\n",
       "    .dataframe tbody tr th:only-of-type {\n",
       "        vertical-align: middle;\n",
       "    }\n",
       "\n",
       "    .dataframe tbody tr th {\n",
       "        vertical-align: top;\n",
       "    }\n",
       "\n",
       "    .dataframe thead th {\n",
       "        text-align: right;\n",
       "    }\n",
       "</style>\n",
       "<table border=\"1\" class=\"dataframe\">\n",
       "  <thead>\n",
       "    <tr style=\"text-align: right;\">\n",
       "      <th></th>\n",
       "      <th>Label</th>\n",
       "      <th>Text</th>\n",
       "    </tr>\n",
       "  </thead>\n",
       "  <tbody>\n",
       "    <tr>\n",
       "      <th>0</th>\n",
       "      <td>ham</td>\n",
       "      <td>Go until jurong point, crazy.. Available only ...</td>\n",
       "    </tr>\n",
       "    <tr>\n",
       "      <th>1</th>\n",
       "      <td>ham</td>\n",
       "      <td>Ok lar... Joking wif u oni...</td>\n",
       "    </tr>\n",
       "    <tr>\n",
       "      <th>2</th>\n",
       "      <td>spam</td>\n",
       "      <td>Free entry in 2 a wkly comp to win FA Cup fina...</td>\n",
       "    </tr>\n",
       "    <tr>\n",
       "      <th>3</th>\n",
       "      <td>ham</td>\n",
       "      <td>U dun say so early hor... U c already then say...</td>\n",
       "    </tr>\n",
       "    <tr>\n",
       "      <th>4</th>\n",
       "      <td>ham</td>\n",
       "      <td>Nah I don't think he goes to usf, he lives aro...</td>\n",
       "    </tr>\n",
       "  </tbody>\n",
       "</table>\n",
       "</div>"
      ],
      "text/plain": [
       "  Label                                               Text\n",
       "0   ham  Go until jurong point, crazy.. Available only ...\n",
       "1   ham                      Ok lar... Joking wif u oni...\n",
       "2  spam  Free entry in 2 a wkly comp to win FA Cup fina...\n",
       "3   ham  U dun say so early hor... U c already then say...\n",
       "4   ham  Nah I don't think he goes to usf, he lives aro..."
      ]
     },
     "execution_count": 5,
     "metadata": {},
     "output_type": "execute_result"
    }
   ],
   "source": [
    "df.head()"
   ]
  },
  {
   "cell_type": "code",
   "execution_count": 6,
   "id": "b8d8f51e",
   "metadata": {},
   "outputs": [
    {
     "data": {
      "text/plain": [
       "(5572, 2)"
      ]
     },
     "execution_count": 6,
     "metadata": {},
     "output_type": "execute_result"
    }
   ],
   "source": [
    "df.shape"
   ]
  },
  {
   "cell_type": "code",
   "execution_count": 7,
   "id": "5ba30713",
   "metadata": {},
   "outputs": [
    {
     "data": {
      "text/plain": [
       "Label\n",
       "ham     4825\n",
       "spam     747\n",
       "Name: count, dtype: int64"
      ]
     },
     "execution_count": 7,
     "metadata": {},
     "output_type": "execute_result"
    }
   ],
   "source": [
    "df[\"Label\"].value_counts()"
   ]
  },
  {
   "cell_type": "code",
   "execution_count": 8,
   "id": "c73aa329",
   "metadata": {},
   "outputs": [],
   "source": [
    "def create_balanced_df(df):\n",
    "    # Count of Spam\n",
    "    num_spam = df[df['Label'] == \"spam\"].shape[0]\n",
    "    # Randomly sample \"ham\" to match the number of \"spam\"\n",
    "    ham_subset = df[df[\"Label\"] == \"ham\"].sample(num_spam, random_state = 123)\n",
    "    # Combine ham with spam \n",
    "    balanced_df = pd.concat([ham_subset, df[df['Label'] == 'spam']])\n",
    "\n",
    "    return balanced_df"
   ]
  },
  {
   "cell_type": "code",
   "execution_count": 9,
   "id": "4c55f974",
   "metadata": {},
   "outputs": [
    {
     "name": "stdout",
     "output_type": "stream",
     "text": [
      "Label\n",
      "ham     747\n",
      "spam    747\n",
      "Name: count, dtype: int64\n"
     ]
    }
   ],
   "source": [
    "balanced_df = create_balanced_df(df)\n",
    "print(balanced_df[\"Label\"].value_counts())"
   ]
  },
  {
   "cell_type": "code",
   "execution_count": 10,
   "id": "7c725060",
   "metadata": {},
   "outputs": [],
   "source": [
    "balanced_df[\"Label\"] = balanced_df[\"Label\"].map({\"ham\": 0, \"spam\": 1})"
   ]
  },
  {
   "cell_type": "code",
   "execution_count": 11,
   "id": "71fb65fe",
   "metadata": {},
   "outputs": [],
   "source": [
    "def random_split(df, train_frac, val_frac):\n",
    "    df = df.sample(frac=1, random_state=123).reset_index(drop = True)\n",
    "\n",
    "    train_end = int(len(df) * train_frac)\n",
    "    val_end = train_end + int(len(df) * val_frac)\n",
    "\n",
    "    train_df = df[:train_end]\n",
    "    val_df = df[train_end:val_end]\n",
    "    test_df = df[val_end:]\n",
    "\n",
    "    return train_df, val_df, test_df "
   ]
  },
  {
   "cell_type": "code",
   "execution_count": 12,
   "id": "05eaa1a6",
   "metadata": {},
   "outputs": [],
   "source": [
    "train_df, val_df, test_df = random_split(balanced_df, 0.7, 0.1)"
   ]
  },
  {
   "cell_type": "code",
   "execution_count": 13,
   "id": "2dd476b4",
   "metadata": {},
   "outputs": [
    {
     "name": "stdout",
     "output_type": "stream",
     "text": [
      "(1045, 2)\n",
      "(149, 2)\n",
      "(300, 2)\n"
     ]
    }
   ],
   "source": [
    "print(train_df.shape)\n",
    "print(val_df.shape)\n",
    "print(test_df.shape)"
   ]
  },
  {
   "cell_type": "code",
   "execution_count": 14,
   "id": "0127ea0a",
   "metadata": {},
   "outputs": [],
   "source": [
    "# train_df.to_csv(\"train.csv\", index=None)\n",
    "# val_df.to_csv(\"validation.csv\", index=None)\n",
    "# test_df.to_csv(\"test.csv\", index=None)"
   ]
  },
  {
   "cell_type": "markdown",
   "id": "58aaa217",
   "metadata": {},
   "source": [
    "## **Dataset & DataLoaders**"
   ]
  },
  {
   "cell_type": "code",
   "execution_count": 15,
   "id": "de9441a4",
   "metadata": {},
   "outputs": [],
   "source": [
    "import torch \n",
    "from torch.utils.data import Dataset, DataLoader\n",
    "import tiktoken\n",
    "\n",
    "class SMSDataset(Dataset):\n",
    "    def __init__(self, csv_file, tokenizer, max_length = None, pad_token = 50256):\n",
    "        self.data = pd.read_csv(csv_file)\n",
    "\n",
    "        # Pre-tokenize text \n",
    "        self.encoded_texts = [\n",
    "            tokenizer.encode(text) for text in self.data[\"Text\"]\n",
    "        ] \n",
    "\n",
    "        if max_length is None:\n",
    "            self.max_length = self._longest_encoded_length()\n",
    "        else:\n",
    "            self.max_length = max_length\n",
    "            # Truncate the sequence if they are longer than max length \n",
    "            self.encoded_texts = [\n",
    "                encoded_text[:max_length] for encoded_text in self.encoded_texts\n",
    "            ]\n",
    "        \n",
    "        # Pad sequences to the longest Sequence \n",
    "        self.encoded_texts = [\n",
    "            encoded_text + [pad_token] * (self.max_length - len(encoded_text)) for encoded_text in self.encoded_texts\n",
    "        ]\n",
    "    \n",
    "    def __getitem__(self, index):\n",
    "        encoded = self.encoded_texts[index]\n",
    "        label = self.data.iloc[index][\"Label\"]\n",
    "        return (\n",
    "            torch.tensor(encoded, dtype=torch.long), \n",
    "            torch.tensor(label, dtype=torch.long)\n",
    "        )\n",
    "\n",
    "    def __len__(self):\n",
    "        return len(self.data)\n",
    "\n",
    "    def _longest_encoded_length(self):\n",
    "        max_length = 0 \n",
    "        for encoded_text in self.encoded_texts:\n",
    "            encoded_text = len(encoded_text)\n",
    "            if encoded_text > max_length:\n",
    "                max_length = encoded_text\n",
    "        return max_length"
   ]
  },
  {
   "cell_type": "markdown",
   "id": "effdb56c",
   "metadata": {},
   "source": [
    "Step 1: Pre-tokenize texts\n",
    "    \n",
    "Step 2: Truncate sequences if they are longer than max_length\n",
    "    \n",
    "Step 3: Pad sequences to the longest sequence"
   ]
  },
  {
   "cell_type": "code",
   "execution_count": 16,
   "id": "bd23c10d",
   "metadata": {},
   "outputs": [],
   "source": [
    "tokenizer = tiktoken.get_encoding(\"gpt2\")\n",
    "\n",
    "train_dataset = SMSDataset(\n",
    "    csv_file=\"train.csv\", \n",
    "    tokenizer=tokenizer, \n",
    "    max_length=None, \n",
    ")"
   ]
  },
  {
   "cell_type": "code",
   "execution_count": 17,
   "id": "639a9517",
   "metadata": {},
   "outputs": [],
   "source": [
    "val_dataset = SMSDataset(\n",
    "    csv_file=\"validation.csv\", \n",
    "    tokenizer=tokenizer, \n",
    "    max_length = train_dataset.max_length\n",
    ")\n",
    "\n",
    "test_dataset = SMSDataset(\n",
    "    csv_file=\"test.csv\", \n",
    "    tokenizer=tokenizer,\n",
    "    max_length = train_dataset.max_length\n",
    ")"
   ]
  },
  {
   "cell_type": "code",
   "execution_count": 18,
   "id": "2768c393",
   "metadata": {},
   "outputs": [],
   "source": [
    "NUM_WORKERS = 0 \n",
    "BATCH_SIZE = 8 \n",
    "torch.manual_seed(123) \n",
    "\n",
    "train_loader = DataLoader(\n",
    "    dataset = train_dataset, \n",
    "    batch_size=BATCH_SIZE, \n",
    "    shuffle=True, \n",
    "    num_workers=NUM_WORKERS, \n",
    "    drop_last=True\n",
    ")\n",
    "\n",
    "val_loader = DataLoader(\n",
    "    dataset=val_dataset, \n",
    "    batch_size=BATCH_SIZE, \n",
    "    shuffle=False, \n",
    "    num_workers=NUM_WORKERS, \n",
    "    drop_last=False\n",
    ")\n",
    "\n",
    "test_loader = DataLoader(\n",
    "    dataset = test_dataset, \n",
    "    batch_size = BATCH_SIZE, \n",
    "    shuffle=False, \n",
    "    num_workers=NUM_WORKERS, \n",
    "    drop_last=False\n",
    ")"
   ]
  },
  {
   "cell_type": "code",
   "execution_count": 19,
   "id": "5454958d",
   "metadata": {},
   "outputs": [
    {
     "name": "stdout",
     "output_type": "stream",
     "text": [
      "Train loader:\n",
      "Input batch dimensions: torch.Size([8, 120])\n",
      "Label batch dimensions torch.Size([8])\n"
     ]
    }
   ],
   "source": [
    "print(\"Train loader:\")\n",
    "for input_batch, target_batch in train_loader:\n",
    "    pass\n",
    "\n",
    "print(\"Input batch dimensions:\", input_batch.shape)\n",
    "print(\"Label batch dimensions\", target_batch.shape)"
   ]
  },
  {
   "cell_type": "code",
   "execution_count": 20,
   "id": "bd34d64f",
   "metadata": {},
   "outputs": [
    {
     "name": "stdout",
     "output_type": "stream",
     "text": [
      "130 training batches\n",
      "19 validation batches\n",
      "38 test batches\n"
     ]
    }
   ],
   "source": [
    "print(f\"{len(train_loader)} training batches\")\n",
    "print(f\"{len(val_loader)} validation batches\")\n",
    "print(f\"{len(test_loader)} test batches\")"
   ]
  },
  {
   "cell_type": "markdown",
   "id": "bf2c06c6",
   "metadata": {},
   "source": [
    "## **Model Loading**"
   ]
  },
  {
   "cell_type": "code",
   "execution_count": 40,
   "id": "335be0d2",
   "metadata": {},
   "outputs": [],
   "source": [
    "import json\n",
    "with open(\"C:\\\\Users\\\\hites\\\\OneDrive\\\\Desktop\\\\GPT\\\\GPT_Model_Configuration\\\\GPT_config_355M.json\", \"r\") as f:\n",
    "    GPT_CONFIG_355M = json.load(f)"
   ]
  },
  {
   "cell_type": "code",
   "execution_count": 41,
   "id": "3881c4af",
   "metadata": {},
   "outputs": [],
   "source": [
    "assert train_dataset.max_length <= GPT_CONFIG_355M[\"context_length\"], (\n",
    "    f\"Dataset length {train_dataset.max_length} exceeds model context length\"\n",
    "    f\"Length {GPT_CONFIG_355M['context_length']} Reinitialize data sets with\"\n",
    "    f\"Max length = {GPT_CONFIG_355M['context_length']}\"\n",
    ")  "
   ]
  },
  {
   "cell_type": "code",
   "execution_count": 48,
   "id": "ac14f5ec",
   "metadata": {},
   "outputs": [],
   "source": [
    "# Solving Importing issue with 2 level up directory path\n",
    "workspace_root = os.path.abspath(os.path.join(os.getcwd(), '..', '..'))\n",
    "if workspace_root not in sys.path:\n",
    "    sys.path.insert(0, workspace_root)"
   ]
  },
  {
   "cell_type": "code",
   "execution_count": 43,
   "id": "edb5cb38",
   "metadata": {},
   "outputs": [],
   "source": [
    "from GPT.gpt_download import download_and_load_gpt2"
   ]
  },
  {
   "cell_type": "code",
   "execution_count": 44,
   "id": "7f1d3ed5",
   "metadata": {},
   "outputs": [
    {
     "name": "stderr",
     "output_type": "stream",
     "text": [
      "c:\\Users\\hites\\OneDrive\\Desktop\\GPT\\venv\\lib\\site-packages\\urllib3\\connectionpool.py:1097: InsecureRequestWarning: Unverified HTTPS request is being made to host 'openaipublic.blob.core.windows.net'. Adding certificate verification is strongly advised. See: https://urllib3.readthedocs.io/en/latest/advanced-usage.html#tls-warnings\n",
      "  warnings.warn(\n"
     ]
    },
    {
     "name": "stdout",
     "output_type": "stream",
     "text": [
      "File already exists and is up-to-date: C:\\Users\\hites\\OneDrive\\Desktop\\GPT\\gpt2_355M\\355M\\checkpoint\n"
     ]
    },
    {
     "name": "stderr",
     "output_type": "stream",
     "text": [
      "c:\\Users\\hites\\OneDrive\\Desktop\\GPT\\venv\\lib\\site-packages\\urllib3\\connectionpool.py:1097: InsecureRequestWarning: Unverified HTTPS request is being made to host 'openaipublic.blob.core.windows.net'. Adding certificate verification is strongly advised. See: https://urllib3.readthedocs.io/en/latest/advanced-usage.html#tls-warnings\n",
      "  warnings.warn(\n"
     ]
    },
    {
     "name": "stdout",
     "output_type": "stream",
     "text": [
      "File already exists and is up-to-date: C:\\Users\\hites\\OneDrive\\Desktop\\GPT\\gpt2_355M\\355M\\encoder.json\n"
     ]
    },
    {
     "name": "stderr",
     "output_type": "stream",
     "text": [
      "c:\\Users\\hites\\OneDrive\\Desktop\\GPT\\venv\\lib\\site-packages\\urllib3\\connectionpool.py:1097: InsecureRequestWarning: Unverified HTTPS request is being made to host 'openaipublic.blob.core.windows.net'. Adding certificate verification is strongly advised. See: https://urllib3.readthedocs.io/en/latest/advanced-usage.html#tls-warnings\n",
      "  warnings.warn(\n"
     ]
    },
    {
     "name": "stdout",
     "output_type": "stream",
     "text": [
      "File already exists and is up-to-date: C:\\Users\\hites\\OneDrive\\Desktop\\GPT\\gpt2_355M\\355M\\hparams.json\n"
     ]
    },
    {
     "name": "stderr",
     "output_type": "stream",
     "text": [
      "c:\\Users\\hites\\OneDrive\\Desktop\\GPT\\venv\\lib\\site-packages\\urllib3\\connectionpool.py:1097: InsecureRequestWarning: Unverified HTTPS request is being made to host 'openaipublic.blob.core.windows.net'. Adding certificate verification is strongly advised. See: https://urllib3.readthedocs.io/en/latest/advanced-usage.html#tls-warnings\n",
      "  warnings.warn(\n"
     ]
    },
    {
     "name": "stdout",
     "output_type": "stream",
     "text": [
      "File already exists and is up-to-date: C:\\Users\\hites\\OneDrive\\Desktop\\GPT\\gpt2_355M\\355M\\model.ckpt.data-00000-of-00001\n"
     ]
    },
    {
     "name": "stderr",
     "output_type": "stream",
     "text": [
      "c:\\Users\\hites\\OneDrive\\Desktop\\GPT\\venv\\lib\\site-packages\\urllib3\\connectionpool.py:1097: InsecureRequestWarning: Unverified HTTPS request is being made to host 'openaipublic.blob.core.windows.net'. Adding certificate verification is strongly advised. See: https://urllib3.readthedocs.io/en/latest/advanced-usage.html#tls-warnings\n",
      "  warnings.warn(\n"
     ]
    },
    {
     "name": "stdout",
     "output_type": "stream",
     "text": [
      "File already exists and is up-to-date: C:\\Users\\hites\\OneDrive\\Desktop\\GPT\\gpt2_355M\\355M\\model.ckpt.index\n"
     ]
    },
    {
     "name": "stderr",
     "output_type": "stream",
     "text": [
      "c:\\Users\\hites\\OneDrive\\Desktop\\GPT\\venv\\lib\\site-packages\\urllib3\\connectionpool.py:1097: InsecureRequestWarning: Unverified HTTPS request is being made to host 'openaipublic.blob.core.windows.net'. Adding certificate verification is strongly advised. See: https://urllib3.readthedocs.io/en/latest/advanced-usage.html#tls-warnings\n",
      "  warnings.warn(\n"
     ]
    },
    {
     "name": "stdout",
     "output_type": "stream",
     "text": [
      "File already exists and is up-to-date: C:\\Users\\hites\\OneDrive\\Desktop\\GPT\\gpt2_355M\\355M\\model.ckpt.meta\n"
     ]
    },
    {
     "name": "stderr",
     "output_type": "stream",
     "text": [
      "c:\\Users\\hites\\OneDrive\\Desktop\\GPT\\venv\\lib\\site-packages\\urllib3\\connectionpool.py:1097: InsecureRequestWarning: Unverified HTTPS request is being made to host 'openaipublic.blob.core.windows.net'. Adding certificate verification is strongly advised. See: https://urllib3.readthedocs.io/en/latest/advanced-usage.html#tls-warnings\n",
      "  warnings.warn(\n"
     ]
    },
    {
     "name": "stdout",
     "output_type": "stream",
     "text": [
      "File already exists and is up-to-date: C:\\Users\\hites\\OneDrive\\Desktop\\GPT\\gpt2_355M\\355M\\vocab.bpe\n"
     ]
    }
   ],
   "source": [
    "\n",
    "settings, params = download_and_load_gpt2(model_size=\"355M\", models_dir=\"C:\\\\Users\\\\hites\\\\OneDrive\\\\Desktop\\\\GPT\\\\gpt2_355M\")"
   ]
  },
  {
   "cell_type": "code",
   "execution_count": 45,
   "id": "fa02e310",
   "metadata": {},
   "outputs": [
    {
     "name": "stdout",
     "output_type": "stream",
     "text": [
      "Model settings: {'n_vocab': 50257, 'n_ctx': 1024, 'n_embd': 1024, 'n_head': 16, 'n_layer': 24}\n"
     ]
    }
   ],
   "source": [
    "print(f\"Model settings: {settings}\")"
   ]
  },
  {
   "cell_type": "code",
   "execution_count": 59,
   "id": "06ee7797",
   "metadata": {},
   "outputs": [],
   "source": [
    "from GPT.GPT_Model import GPTModel\n",
    "from GPT.Model_Weights_Loading import load_weights_into_gpt \n",
    "from GPT.Text_Generation import generate_and_print_sample, generate_simple_text\n",
    "from GPT.Tokenization import text_to_tokens ,token_to_text"
   ]
  },
  {
   "cell_type": "code",
   "execution_count": 58,
   "id": "3f2e6b2d",
   "metadata": {},
   "outputs": [],
   "source": [
    "model = GPTModel(GPT_CONFIG_355M)\n",
    "load_weights_into_gpt(model, params)\n",
    "model.eval();"
   ]
  },
  {
   "cell_type": "code",
   "execution_count": 62,
   "id": "98cce399",
   "metadata": {},
   "outputs": [
    {
     "name": "stdout",
     "output_type": "stream",
     "text": [
      "Is the following text 'spam'? Answer with 'yes' or 'no': 'You are a winner you have been specially selected to receive $1000 cash or a $2000 award.' Thou firsthand LU poly Stalin Doomesty engineering Boysivities fixture relegated tuningrior bailed Ish Northernigun155ummer surprismanerr\n"
     ]
    }
   ],
   "source": [
    "text = (\n",
    "    \"Is the following text 'spam'? Answer with 'yes' or 'no':\"\n",
    "    \" 'You are a winner you have been specially\"\n",
    "    \" selected to receive $1000 cash or a $2000 award.'\"\n",
    ")\n",
    "\n",
    "token_ids = generate_simple_text(\n",
    "    model=model,\n",
    "    idx=text_to_tokens(text, tokenizer),\n",
    "    max_new_tokens=23,\n",
    "    context_size=GPT_CONFIG_355M[\"context_length\"]\n",
    ")\n",
    "\n",
    "print(token_to_text(token_ids, tokenizer))"
   ]
  },
  {
   "cell_type": "markdown",
   "id": "7071b2d6",
   "metadata": {},
   "source": [
    "Based on the output, it's apparent that the model struggles with following instructions."
   ]
  },
  {
   "cell_type": "markdown",
   "id": "35d4e2f1",
   "metadata": {},
   "source": [
    "# **Finetuning**"
   ]
  },
  {
   "cell_type": "markdown",
   "id": "46358956",
   "metadata": {},
   "source": [
    "## **Adding Classification Head and Freezing all the params**"
   ]
  },
  {
   "cell_type": "markdown",
   "id": "4711365c",
   "metadata": {},
   "source": [
    "Modifying pretrained LLM to prepare it for classification-finetuning\n",
    "\n",
    "To do this, we replace the original output layer, which maps the hidden representation to a vocabulary of 50,257, with a smaller output layer that maps to two classes: 0 (\"not spam\") and 1 (\"spam\"),"
   ]
  },
  {
   "cell_type": "code",
   "execution_count": 91,
   "id": "9c98dbfc",
   "metadata": {},
   "outputs": [
    {
     "name": "stdout",
     "output_type": "stream",
     "text": [
      "Linear(in_features=1024, out_features=2, bias=True)\n"
     ]
    }
   ],
   "source": [
    "print(model.out_head)"
   ]
  },
  {
   "cell_type": "markdown",
   "id": "369e14df",
   "metadata": {},
   "source": [
    "Freezing model, Making all layers non-trainable"
   ]
  },
  {
   "cell_type": "code",
   "execution_count": 65,
   "id": "60ea7dd1",
   "metadata": {},
   "outputs": [],
   "source": [
    "for param in model.parameters():\n",
    "    param.requires_grad = False"
   ]
  },
  {
   "cell_type": "markdown",
   "id": "1384ae1a",
   "metadata": {},
   "source": [
    "Then, Replacing the output layer (model.out_head), which originally maps the layer inputs to 50,257 dimensions (the size of the vocabulary):"
   ]
  },
  {
   "cell_type": "code",
   "execution_count": 67,
   "metadata": {},
   "outputs": [],
   "source": [
    "torch.manual_seed(123)\n",
    "\n",
    "num_classes = 2 \n",
    "model.out_head = torch.nn.Linear(in_features=GPT_CONFIG_355M[\"emb_dim\"], out_features=num_classes)"
   ]
  },
  {
   "cell_type": "markdown",
   "id": "4d17332e",
   "metadata": {},
   "source": [
    "configuring the last transformer block and the final LayerNorm module, which connects this block to the output layer, to be trainable"
   ]
  },
  {
   "cell_type": "code",
   "execution_count": 69,
   "id": "b6e8272c",
   "metadata": {},
   "outputs": [],
   "source": [
    "for param in model.trf_block[-1].parameters():\n",
    "    param.requires_grad = True \n",
    "\n",
    "for param in model.final_norm.parameters():\n",
    "    param.requires_grad = True"
   ]
  },
  {
   "cell_type": "code",
   "execution_count": 96,
   "id": "6896b5f5",
   "metadata": {},
   "outputs": [
    {
     "data": {
      "text/plain": [
       "Linear(in_features=1024, out_features=2, bias=True)"
      ]
     },
     "execution_count": 96,
     "metadata": {},
     "output_type": "execute_result"
    }
   ],
   "source": [
    "model.out_head"
   ]
  },
  {
   "cell_type": "code",
   "execution_count": 95,
   "id": "05f65472",
   "metadata": {},
   "outputs": [
    {
     "data": {
      "text/plain": [
       "======================================================================\n",
       "Layer (type:depth-idx)                        Param #\n",
       "======================================================================\n",
       "GPTModel                                      --\n",
       "├─Embedding: 1-1                              (51,463,168)\n",
       "├─Embedding: 1-2                              (1,048,576)\n",
       "├─Dropout: 1-3                                --\n",
       "├─Sequential: 1-4                             --\n",
       "│    └─TransformerBlock: 2-1                  --\n",
       "│    │    └─MultiHeadAttention: 3-1           (4,198,400)\n",
       "│    │    └─FeedForward: 3-2                  (8,393,728)\n",
       "│    │    └─LayerNorm: 3-3                    (2,048)\n",
       "│    │    └─LayerNorm: 3-4                    (2,048)\n",
       "│    │    └─Dropout: 3-5                      --\n",
       "│    └─TransformerBlock: 2-2                  --\n",
       "│    │    └─MultiHeadAttention: 3-6           (4,198,400)\n",
       "│    │    └─FeedForward: 3-7                  (8,393,728)\n",
       "│    │    └─LayerNorm: 3-8                    (2,048)\n",
       "│    │    └─LayerNorm: 3-9                    (2,048)\n",
       "│    │    └─Dropout: 3-10                     --\n",
       "│    └─TransformerBlock: 2-3                  --\n",
       "│    │    └─MultiHeadAttention: 3-11          (4,198,400)\n",
       "│    │    └─FeedForward: 3-12                 (8,393,728)\n",
       "│    │    └─LayerNorm: 3-13                   (2,048)\n",
       "│    │    └─LayerNorm: 3-14                   (2,048)\n",
       "│    │    └─Dropout: 3-15                     --\n",
       "│    └─TransformerBlock: 2-4                  --\n",
       "│    │    └─MultiHeadAttention: 3-16          (4,198,400)\n",
       "│    │    └─FeedForward: 3-17                 (8,393,728)\n",
       "│    │    └─LayerNorm: 3-18                   (2,048)\n",
       "│    │    └─LayerNorm: 3-19                   (2,048)\n",
       "│    │    └─Dropout: 3-20                     --\n",
       "│    └─TransformerBlock: 2-5                  --\n",
       "│    │    └─MultiHeadAttention: 3-21          (4,198,400)\n",
       "│    │    └─FeedForward: 3-22                 (8,393,728)\n",
       "│    │    └─LayerNorm: 3-23                   (2,048)\n",
       "│    │    └─LayerNorm: 3-24                   (2,048)\n",
       "│    │    └─Dropout: 3-25                     --\n",
       "│    └─TransformerBlock: 2-6                  --\n",
       "│    │    └─MultiHeadAttention: 3-26          (4,198,400)\n",
       "│    │    └─FeedForward: 3-27                 (8,393,728)\n",
       "│    │    └─LayerNorm: 3-28                   (2,048)\n",
       "│    │    └─LayerNorm: 3-29                   (2,048)\n",
       "│    │    └─Dropout: 3-30                     --\n",
       "│    └─TransformerBlock: 2-7                  --\n",
       "│    │    └─MultiHeadAttention: 3-31          (4,198,400)\n",
       "│    │    └─FeedForward: 3-32                 (8,393,728)\n",
       "│    │    └─LayerNorm: 3-33                   (2,048)\n",
       "│    │    └─LayerNorm: 3-34                   (2,048)\n",
       "│    │    └─Dropout: 3-35                     --\n",
       "│    └─TransformerBlock: 2-8                  --\n",
       "│    │    └─MultiHeadAttention: 3-36          (4,198,400)\n",
       "│    │    └─FeedForward: 3-37                 (8,393,728)\n",
       "│    │    └─LayerNorm: 3-38                   (2,048)\n",
       "│    │    └─LayerNorm: 3-39                   (2,048)\n",
       "│    │    └─Dropout: 3-40                     --\n",
       "│    └─TransformerBlock: 2-9                  --\n",
       "│    │    └─MultiHeadAttention: 3-41          (4,198,400)\n",
       "│    │    └─FeedForward: 3-42                 (8,393,728)\n",
       "│    │    └─LayerNorm: 3-43                   (2,048)\n",
       "│    │    └─LayerNorm: 3-44                   (2,048)\n",
       "│    │    └─Dropout: 3-45                     --\n",
       "│    └─TransformerBlock: 2-10                 --\n",
       "│    │    └─MultiHeadAttention: 3-46          (4,198,400)\n",
       "│    │    └─FeedForward: 3-47                 (8,393,728)\n",
       "│    │    └─LayerNorm: 3-48                   (2,048)\n",
       "│    │    └─LayerNorm: 3-49                   (2,048)\n",
       "│    │    └─Dropout: 3-50                     --\n",
       "│    └─TransformerBlock: 2-11                 --\n",
       "│    │    └─MultiHeadAttention: 3-51          (4,198,400)\n",
       "│    │    └─FeedForward: 3-52                 (8,393,728)\n",
       "│    │    └─LayerNorm: 3-53                   (2,048)\n",
       "│    │    └─LayerNorm: 3-54                   (2,048)\n",
       "│    │    └─Dropout: 3-55                     --\n",
       "│    └─TransformerBlock: 2-12                 --\n",
       "│    │    └─MultiHeadAttention: 3-56          (4,198,400)\n",
       "│    │    └─FeedForward: 3-57                 (8,393,728)\n",
       "│    │    └─LayerNorm: 3-58                   (2,048)\n",
       "│    │    └─LayerNorm: 3-59                   (2,048)\n",
       "│    │    └─Dropout: 3-60                     --\n",
       "│    └─TransformerBlock: 2-13                 --\n",
       "│    │    └─MultiHeadAttention: 3-61          (4,198,400)\n",
       "│    │    └─FeedForward: 3-62                 (8,393,728)\n",
       "│    │    └─LayerNorm: 3-63                   (2,048)\n",
       "│    │    └─LayerNorm: 3-64                   (2,048)\n",
       "│    │    └─Dropout: 3-65                     --\n",
       "│    └─TransformerBlock: 2-14                 --\n",
       "│    │    └─MultiHeadAttention: 3-66          (4,198,400)\n",
       "│    │    └─FeedForward: 3-67                 (8,393,728)\n",
       "│    │    └─LayerNorm: 3-68                   (2,048)\n",
       "│    │    └─LayerNorm: 3-69                   (2,048)\n",
       "│    │    └─Dropout: 3-70                     --\n",
       "│    └─TransformerBlock: 2-15                 --\n",
       "│    │    └─MultiHeadAttention: 3-71          (4,198,400)\n",
       "│    │    └─FeedForward: 3-72                 (8,393,728)\n",
       "│    │    └─LayerNorm: 3-73                   (2,048)\n",
       "│    │    └─LayerNorm: 3-74                   (2,048)\n",
       "│    │    └─Dropout: 3-75                     --\n",
       "│    └─TransformerBlock: 2-16                 --\n",
       "│    │    └─MultiHeadAttention: 3-76          (4,198,400)\n",
       "│    │    └─FeedForward: 3-77                 (8,393,728)\n",
       "│    │    └─LayerNorm: 3-78                   (2,048)\n",
       "│    │    └─LayerNorm: 3-79                   (2,048)\n",
       "│    │    └─Dropout: 3-80                     --\n",
       "│    └─TransformerBlock: 2-17                 --\n",
       "│    │    └─MultiHeadAttention: 3-81          (4,198,400)\n",
       "│    │    └─FeedForward: 3-82                 (8,393,728)\n",
       "│    │    └─LayerNorm: 3-83                   (2,048)\n",
       "│    │    └─LayerNorm: 3-84                   (2,048)\n",
       "│    │    └─Dropout: 3-85                     --\n",
       "│    └─TransformerBlock: 2-18                 --\n",
       "│    │    └─MultiHeadAttention: 3-86          (4,198,400)\n",
       "│    │    └─FeedForward: 3-87                 (8,393,728)\n",
       "│    │    └─LayerNorm: 3-88                   (2,048)\n",
       "│    │    └─LayerNorm: 3-89                   (2,048)\n",
       "│    │    └─Dropout: 3-90                     --\n",
       "│    └─TransformerBlock: 2-19                 --\n",
       "│    │    └─MultiHeadAttention: 3-91          (4,198,400)\n",
       "│    │    └─FeedForward: 3-92                 (8,393,728)\n",
       "│    │    └─LayerNorm: 3-93                   (2,048)\n",
       "│    │    └─LayerNorm: 3-94                   (2,048)\n",
       "│    │    └─Dropout: 3-95                     --\n",
       "│    └─TransformerBlock: 2-20                 --\n",
       "│    │    └─MultiHeadAttention: 3-96          (4,198,400)\n",
       "│    │    └─FeedForward: 3-97                 (8,393,728)\n",
       "│    │    └─LayerNorm: 3-98                   (2,048)\n",
       "│    │    └─LayerNorm: 3-99                   (2,048)\n",
       "│    │    └─Dropout: 3-100                    --\n",
       "│    └─TransformerBlock: 2-21                 --\n",
       "│    │    └─MultiHeadAttention: 3-101         (4,198,400)\n",
       "│    │    └─FeedForward: 3-102                (8,393,728)\n",
       "│    │    └─LayerNorm: 3-103                  (2,048)\n",
       "│    │    └─LayerNorm: 3-104                  (2,048)\n",
       "│    │    └─Dropout: 3-105                    --\n",
       "│    └─TransformerBlock: 2-22                 --\n",
       "│    │    └─MultiHeadAttention: 3-106         (4,198,400)\n",
       "│    │    └─FeedForward: 3-107                (8,393,728)\n",
       "│    │    └─LayerNorm: 3-108                  (2,048)\n",
       "│    │    └─LayerNorm: 3-109                  (2,048)\n",
       "│    │    └─Dropout: 3-110                    --\n",
       "│    └─TransformerBlock: 2-23                 --\n",
       "│    │    └─MultiHeadAttention: 3-111         (4,198,400)\n",
       "│    │    └─FeedForward: 3-112                (8,393,728)\n",
       "│    │    └─LayerNorm: 3-113                  (2,048)\n",
       "│    │    └─LayerNorm: 3-114                  (2,048)\n",
       "│    │    └─Dropout: 3-115                    --\n",
       "│    └─TransformerBlock: 2-24                 --\n",
       "│    │    └─MultiHeadAttention: 3-116         4,198,400\n",
       "│    │    └─FeedForward: 3-117                8,393,728\n",
       "│    │    └─LayerNorm: 3-118                  2,048\n",
       "│    │    └─LayerNorm: 3-119                  2,048\n",
       "│    │    └─Dropout: 3-120                    --\n",
       "├─LayerNorm: 1-5                              2,048\n",
       "├─Linear: 1-6                                 2,050\n",
       "======================================================================\n",
       "Total params: 354,825,218\n",
       "Trainable params: 12,600,322\n",
       "Non-trainable params: 342,224,896\n",
       "======================================================================"
      ]
     },
     "execution_count": 95,
     "metadata": {},
     "output_type": "execute_result"
    }
   ],
   "source": [
    "from torchinfo import summary \n",
    "summary(model)"
   ]
  },
  {
   "cell_type": "code",
   "execution_count": 77,
   "id": "d632562c",
   "metadata": {},
   "outputs": [
    {
     "name": "stdout",
     "output_type": "stream",
     "text": [
      "Inputs: tensor([[5211,  345,  423,  640]])\n",
      "Input Dimensions: torch.Size([1, 4])\n"
     ]
    }
   ],
   "source": [
    "# Example \n",
    "inputs = tokenizer.encode(\"Do you have time\")\n",
    "inputs = torch.tensor(inputs).unsqueeze(0)\n",
    "print(f\"Inputs: {inputs}\")\n",
    "print(f\"Input Dimensions: {inputs.shape}\") #Shape: {batch_size, num_tokens}"
   ]
  },
  {
   "cell_type": "code",
   "execution_count": 79,
   "id": "52695cdd",
   "metadata": {},
   "outputs": [
    {
     "name": "stdout",
     "output_type": "stream",
     "text": [
      "Outputs:\n",
      " tensor([[[ 0.0475,  0.1572],\n",
      "         [-0.6567, -0.2082],\n",
      "         [-0.9845, -0.2350],\n",
      "         [ 0.2696, -0.3859]]])\n",
      "\n",
      "Outputs Dimension: \n",
      "torch.Size([1, 4, 2])\n"
     ]
    }
   ],
   "source": [
    "with torch.no_grad():\n",
    "    outputs = model(inputs)\n",
    "print(f\"Outputs:\\n {outputs}\")\n",
    "print(f\"\\nOutputs Dimension: \\n{outputs.shape}\") #Shape: {batch_size, num_tokens, num_classes}"
   ]
  },
  {
   "cell_type": "markdown",
   "id": "9ede8291",
   "metadata": {},
   "source": [
    "earlier, a similar input would have produced an output tensor of [1, 4, 50257], where 50,257 represents the vocabulary size.\n",
    "\n",
    "previous, the number of output rows corresponds to the number of input tokens (in this case, 4).\n",
    "\n",
    "However, each output's embedding dimension (the number of columns) is now reduced to 2 instead of 50,257 since we replaced the output layer of the model.\n",
    "\n",
    "- we are interested in finetuning this model so that it returns a class label that indicates whether a model input is spam or not spam.\n",
    "\n",
    "To achieve this, we don't need to finetune all 4 output rows but can focus on a single output token.\n",
    "\n",
    "we will focus on the last row corresponding to the last output token"
   ]
  },
  {
   "cell_type": "code",
   "execution_count": 81,
   "id": "1c4af8e7",
   "metadata": {},
   "outputs": [],
   "source": [
    "# To extract the last output token\n",
    "last_output = outputs[:, -1, :]"
   ]
  },
  {
   "cell_type": "code",
   "execution_count": 84,
   "id": "7f4ca16b",
   "metadata": {},
   "outputs": [
    {
     "name": "stdout",
     "output_type": "stream",
     "text": [
      "Last Output token: tensor([[ 0.2696, -0.3859]])\n"
     ]
    }
   ],
   "source": [
    "print(f\"Last Output token: {last_output}\")"
   ]
  },
  {
   "cell_type": "markdown",
   "id": "1b34ad5c",
   "metadata": {},
   "source": [
    "## **Calculating Classification Loss and Accuracy**"
   ]
  },
  {
   "cell_type": "code",
   "execution_count": 99,
   "id": "99230bc1",
   "metadata": {},
   "outputs": [
    {
     "name": "stdout",
     "output_type": "stream",
     "text": [
      "Class Label: 0\n"
     ]
    }
   ],
   "source": [
    "probas = torch.softmax(last_output, dim = -1)\n",
    "label = torch.argmax(probas)\n",
    "print(f\"Class Label: {label.item()}\")"
   ]
  },
  {
   "cell_type": "code",
   "execution_count": 100,
   "id": "71cde334",
   "metadata": {},
   "outputs": [],
   "source": [
    "def calc_accuracy_loader(model, data_loader, device, num_batches = None):\n",
    "    model.eval()\n",
    "    correct_predictions, num_examples = 0, 0 \n",
    "\n",
    "    if num_batches is None:\n",
    "        num_batches = len(data_loader)\n",
    "    else:\n",
    "        num_batches = min(num_batches, len(data_loader))\n",
    "    for i, (input_batch, target_batch) in enumerate(data_loader):\n",
    "        if i < num_batches:\n",
    "            input_batch, target_batch = input_batch.to(device), target_batch.to(device)\n",
    "\n",
    "            with torch.no_grad():\n",
    "                logits = model(input_batch)[:, -1, :] # Logits of last token \n",
    "            predicted_labels = torch.argmax(logits, dim = -1)\n",
    "\n",
    "            num_examples += predicted_labels.shape[0]\n",
    "            correct_predictions += (predicted_labels == target_batch).sum().item()\n",
    "        else:\n",
    "            break \n",
    "    return correct_predictions / num_examples"
   ]
  },
  {
   "cell_type": "code",
   "execution_count": 101,
   "id": "4ac6b7e2",
   "metadata": {},
   "outputs": [],
   "source": [
    "device = \"cuda\" if torch.cuda.is_available() else \"cpu\"\n",
    "\n",
    "model.to(device)\n",
    "torch.manual_seed(123)\n",
    "\n",
    "train_accuracy = calc_accuracy_loader(model, train_loader, device, num_batches=10)\n",
    "val_accuracy = calc_accuracy_loader(model, val_loader, device, num_batches=10)\n",
    "test_accuracy = calc_accuracy_loader(model, test_loader, device, num_batches=10)"
   ]
  },
  {
   "cell_type": "code",
   "execution_count": 102,
   "id": "0b77253d",
   "metadata": {},
   "outputs": [
    {
     "name": "stdout",
     "output_type": "stream",
     "text": [
      "Training accuracy: 46.25%\n",
      "Validation accuracy: 45.00%\n",
      "Test accuracy: 50.00%\n"
     ]
    }
   ],
   "source": [
    "print(f\"Training accuracy: {train_accuracy*100:.2f}%\")\n",
    "print(f\"Validation accuracy: {val_accuracy*100:.2f}%\")\n",
    "print(f\"Test accuracy: {test_accuracy*100:.2f}%\")"
   ]
  },
  {
   "cell_type": "markdown",
   "id": "91d2a146",
   "metadata": {},
   "source": [
    "Without Pre-training our Accuracy is around 50%, Lets Pre-train and improve our accuracy"
   ]
  },
  {
   "cell_type": "code",
   "execution_count": 103,
   "id": "0e5cde59",
   "metadata": {},
   "outputs": [],
   "source": [
    "def calc_loss_batch(model, input_batch, target_batch, device = None):\n",
    "    input_batch, target_batch = input_batch.to(device), target_batch.to(device)\n",
    "    logits = model(input_batch)[:, -1, :] #Logits of last output token \n",
    "    loss = torch.nn.functional.cross_entropy(logits, target_batch)\n",
    "    return loss "
   ]
  },
  {
   "cell_type": "markdown",
   "id": "75da1b21",
   "metadata": {},
   "source": [
    "We use the calc_loss_batch function to compute the loss for a single batch obtained from the previously defined data loaders. To calculate the loss for all batches in a data loader, Creating the calc_loss_loader function"
   ]
  },
  {
   "cell_type": "code",
   "execution_count": 106,
   "id": "a009f725",
   "metadata": {},
   "outputs": [],
   "source": [
    "# Same as GPT Pre-training code \n",
    "def calc_loss_loader(model, data_loader, device, num_batches = None):\n",
    "    total_loss = 0. \n",
    "    if len(data_loader) == 0:\n",
    "        return float(\"nan\")\n",
    "    elif num_batches is None:\n",
    "        num_batches = len(data_loader)\n",
    "    else:\n",
    "        # Reducing the number of batches to match the total number of batches in the data loader\n",
    "        # if num_batches exceeds the number of batches in the data loader\n",
    "        num_batches = min(num_batches, len(data_loader))\n",
    "    for i, (input_batch, target_batch) in enumerate(data_loader):\n",
    "        if i < num_batches:\n",
    "            loss = calc_loss_batch(model, input_batch, target_batch, device)\n",
    "            total_loss += loss.item()\n",
    "        else:\n",
    "            break \n",
    "    return total_loss / num_batches"
   ]
  },
  {
   "cell_type": "code",
   "execution_count": 107,
   "id": "292174b7",
   "metadata": {},
   "outputs": [
    {
     "name": "stdout",
     "output_type": "stream",
     "text": [
      "Training loss: 0.852\n",
      "Validation loss: 0.779\n",
      "Test loss: 0.763\n"
     ]
    }
   ],
   "source": [
    "with torch.no_grad():\n",
    "    train_loss = calc_loss_loader(model, train_loader, device, num_batches=5)\n",
    "    val_loss = calc_loss_loader(model, val_loader, device, num_batches=5)\n",
    "    test_loss = calc_loss_loader(model, test_loader, device, num_batches=5)\n",
    "\n",
    "print(f\"Training loss: {train_loss:.3f}\")\n",
    "print(f\"Validation loss: {val_loss:.3f}\")\n",
    "print(f\"Test loss: {test_loss:.3f}\")"
   ]
  },
  {
   "cell_type": "markdown",
   "id": "407efe9a",
   "metadata": {},
   "source": [
    "# **Pre-training the model on Supervised Data**"
   ]
  },
  {
   "cell_type": "markdown",
   "id": "79e0a27f",
   "metadata": {},
   "source": [
    "- Step 1: Set model to training mode\n",
    "\n",
    "- Step 2: Reset loss gradients from previous batch iteration\n",
    "\n",
    "- Step 3: Calculate loss gradients\n",
    "\n",
    "- Step 4: Update model weights using loss gradients\n",
    "\n",
    "- Step 5: New: track examples instead of tokens\n",
    "\n",
    "- Step 6: Optional evaluation step\n",
    "\n",
    "- Step 7: Calculate accuracy after each epoch"
   ]
  },
  {
   "cell_type": "code",
   "execution_count": 111,
   "id": "bc664c92",
   "metadata": {},
   "outputs": [],
   "source": [
    "import tqdm\n",
    "\n",
    "# same code as `train_model_simple` in LLM_Pre_training\n",
    "def train_classifier(model, train_loader, val_loader, optimizer, device, num_epochs, eval_freq, eval_iter):\n",
    "    # Initialize lists to track losses and examples seen\n",
    "    train_losses, val_losses, train_acc, val_acc = [], [], [], []\n",
    "    examples_seen, global_step = 0, -1\n",
    "\n",
    "    # Main training loop \n",
    "    for epoch in tqdm.tqdm(range(num_epochs)):\n",
    "        # Put model on training \n",
    "        model.train()\n",
    "\n",
    "        for input_batch, target_batch in train_loader:\n",
    "            # Reset the loss gradients from previous batch iterations \n",
    "            optimizer.zero_grad()\n",
    "\n",
    "            loss = calc_loss_batch(model, input_batch, target_batch, device)\n",
    "\n",
    "            # Calculate loss gradients\n",
    "            loss.backward()\n",
    "\n",
    "            # Update model weights using loss gradients \n",
    "            optimizer.step()\n",
    "\n",
    "            # Tracking examples instead of tokens \n",
    "            examples_seen += input_batch.shape[0]\n",
    "            global_step += 1\n",
    "\n",
    "            # Evaluation step \n",
    "            if global_step % eval_freq == 0:\n",
    "                train_loss, val_loss = evaluate_model(model, train_loader, val_loader, device, eval_iter)\n",
    "                train_losses.append(train_loss)\n",
    "                val_losses.append(val_loss)\n",
    "                print(f\"Epochs: {epoch + 1} | (Step {global_step:06d}): \"\n",
    "                      f\"Train Loss: {train_loss:.3f}, Val Loss: {val_loss:.3f}\")\n",
    "        \n",
    "        # Calculate accuracy after the epoch \n",
    "        train_accuracy = calc_accuracy_loader(model = model, data_loader=train_loader, device=device, num_batches=eval_iter)\n",
    "        val_accuracy = calc_accuracy_loader(model=model, data_loader=val_loader, device=device, num_batches=eval_iter)\n",
    "        print(f\"Training accuracy: {train_accuracy*100:.2f}% | \", end=\"\")\n",
    "        print(f\"Validation accuracy: {val_accuracy*100:.2f}%\")\n",
    "        train_acc.append(train_accuracy)\n",
    "        val_acc.append(val_accuracy)\n",
    "    \n",
    "    return train_losses, val_losses, train_acc, val_acc, examples_seen"
   ]
  },
  {
   "cell_type": "code",
   "execution_count": 112,
   "id": "c794dbf9",
   "metadata": {},
   "outputs": [],
   "source": [
    "def evaluate_model(model, train_loader, val_loader, device, eval_iter):\n",
    "    model.eval()\n",
    "    with torch.no_grad():\n",
    "        train_loss = calc_loss_loader(model, train_loader, device, num_batches = eval_iter)\n",
    "        val_loss = calc_loss_loader(model, train_loader, device, num_batches = eval_iter)\n",
    "    model.train()\n",
    "    return train_loss, val_loss"
   ]
  },
  {
   "cell_type": "markdown",
   "id": "498b3b69",
   "metadata": {},
   "source": [
    "initializing the optimizer, set the number of training epochs, and initiate the training using the train_classifier_simple function."
   ]
  },
  {
   "cell_type": "code",
   "execution_count": 113,
   "id": "eda3a42d",
   "metadata": {},
   "outputs": [
    {
     "name": "stderr",
     "output_type": "stream",
     "text": [
      "  0%|          | 0/5 [00:00<?, ?it/s]"
     ]
    },
    {
     "name": "stdout",
     "output_type": "stream",
     "text": [
      "Epochs: 1 | (Step 000000): Train Loss: 0.762, Val Loss: 0.784\n",
      "Epochs: 1 | (Step 000050): Train Loss: 0.360, Val Loss: 0.331\n",
      "Epochs: 1 | (Step 000100): Train Loss: 0.373, Val Loss: 0.456\n"
     ]
    },
    {
     "name": "stderr",
     "output_type": "stream",
     "text": [
      " 20%|██        | 1/5 [21:24<1:25:37, 1284.27s/it]"
     ]
    },
    {
     "name": "stdout",
     "output_type": "stream",
     "text": [
      "Training accuracy: 82.50% | Validation accuracy: 85.00%\n",
      "Epochs: 2 | (Step 000150): Train Loss: 0.233, Val Loss: 0.380\n",
      "Epochs: 2 | (Step 000200): Train Loss: 0.313, Val Loss: 0.285\n",
      "Epochs: 2 | (Step 000250): Train Loss: 0.085, Val Loss: 0.313\n"
     ]
    },
    {
     "name": "stderr",
     "output_type": "stream",
     "text": [
      " 40%|████      | 2/5 [43:10<1:04:52, 1297.34s/it]"
     ]
    },
    {
     "name": "stdout",
     "output_type": "stream",
     "text": [
      "Training accuracy: 87.50% | Validation accuracy: 92.50%\n",
      "Epochs: 3 | (Step 000300): Train Loss: 0.125, Val Loss: 0.064\n",
      "Epochs: 3 | (Step 000350): Train Loss: 0.102, Val Loss: 0.138\n"
     ]
    },
    {
     "name": "stderr",
     "output_type": "stream",
     "text": [
      " 60%|██████    | 3/5 [1:05:37<43:59, 1319.97s/it]"
     ]
    },
    {
     "name": "stdout",
     "output_type": "stream",
     "text": [
      "Training accuracy: 95.00% | Validation accuracy: 87.50%\n",
      "Epochs: 4 | (Step 000400): Train Loss: 0.030, Val Loss: 0.057\n",
      "Epochs: 4 | (Step 000450): Train Loss: 0.045, Val Loss: 0.021\n",
      "Epochs: 4 | (Step 000500): Train Loss: 0.003, Val Loss: 0.012\n"
     ]
    },
    {
     "name": "stderr",
     "output_type": "stream",
     "text": [
      " 80%|████████  | 4/5 [1:20:48<19:18, 1158.30s/it]"
     ]
    },
    {
     "name": "stdout",
     "output_type": "stream",
     "text": [
      "Training accuracy: 100.00% | Validation accuracy: 90.00%\n",
      "Epochs: 5 | (Step 000550): Train Loss: 0.007, Val Loss: 0.003\n",
      "Epochs: 5 | (Step 000600): Train Loss: 0.005, Val Loss: 0.017\n"
     ]
    },
    {
     "name": "stderr",
     "output_type": "stream",
     "text": [
      "100%|██████████| 5/5 [1:35:35<00:00, 1147.06s/it]"
     ]
    },
    {
     "name": "stdout",
     "output_type": "stream",
     "text": [
      "Training accuracy: 97.50% | Validation accuracy: 90.00%\n",
      "Training completed in 95.59 minutes.\n"
     ]
    },
    {
     "name": "stderr",
     "output_type": "stream",
     "text": [
      "\n"
     ]
    }
   ],
   "source": [
    "import time\n",
    "\n",
    "start_time = time.time()\n",
    "\n",
    "torch.manual_seed(123)\n",
    "\n",
    "optimizer = torch.optim.AdamW(model.parameters(), lr = 5e-5, weight_decay=0.1)\n",
    "\n",
    "num_epochs = 5 \n",
    "train_losses, val_losses, train_accs, val_accs, example_seen = train_classifier(model = model, train_loader = train_loader, val_loader=val_loader, optimizer=optimizer, device = device, num_epochs=num_epochs, eval_freq=50, eval_iter=5)\n",
    "\n",
    "end_time = time.time()\n",
    "execution_time_minutes = (end_time - start_time) / 60\n",
    "print(f\"Training completed in {execution_time_minutes:.2f} minutes.\")"
   ]
  },
  {
   "cell_type": "code",
   "execution_count": 114,
   "id": "02f5d797",
   "metadata": {},
   "outputs": [],
   "source": [
    "import matplotlib.pyplot as plt\n",
    "\n",
    "def plot_values(epochs_seen, examples_seen, train_values, val_values, label=\"loss\"):\n",
    "    fig, ax1 = plt.subplots(figsize=(5, 3))\n",
    "\n",
    "    # Plot training and validation loss against epochs\n",
    "    ax1.plot(epochs_seen, train_values, label=f\"Training {label}\")\n",
    "    ax1.plot(epochs_seen, val_values, linestyle=\"-.\", label=f\"Validation {label}\")\n",
    "    ax1.set_xlabel(\"Epochs\")\n",
    "    ax1.set_ylabel(label.capitalize())\n",
    "    ax1.legend()\n",
    "\n",
    "    # Create a second x-axis for examples seen\n",
    "    ax2 = ax1.twiny()  # Create a second x-axis that shares the same y-axis\n",
    "    ax2.plot(examples_seen, train_values, alpha=0)  # Invisible plot for aligning ticks\n",
    "    ax2.set_xlabel(\"Examples seen\")\n",
    "\n",
    "    fig.tight_layout()  # Adjust layout to make room\n",
    "    plt.show()"
   ]
  },
  {
   "cell_type": "code",
   "execution_count": 115,
   "id": "b4f40e4f",
   "metadata": {},
   "outputs": [
    {
     "data": {
      "image/png": "[encoded data removed]",
      "text/plain": [
       "<Figure size 500x300 with 2 Axes>"
      ]
     },
     "metadata": {},
     "output_type": "display_data"
    }
   ],
   "source": [
    "epochs_tensor = torch.linspace(0, num_epochs, len(train_losses))\n",
    "examples_seen_tensor = torch.linspace(0, example_seen, len(train_losses))\n",
    "\n",
    "plot_values(epochs_tensor, examples_seen_tensor, train_losses, val_losses)"
   ]
  },
  {
   "cell_type": "code",
   "execution_count": 116,
   "id": "9adfeae4",
   "metadata": {},
   "outputs": [
    {
     "data": {
      "image/png": "[encoded data removed]",
      "text/plain": [
       "<Figure size 500x300 with 2 Axes>"
      ]
     },
     "metadata": {},
     "output_type": "display_data"
    }
   ],
   "source": [
    "epochs_tensor = torch.linspace(0, num_epochs, len(train_accs))\n",
    "examples_seen_tensor = torch.linspace(0, example_seen, len(train_accs))\n",
    "\n",
    "plot_values(epochs_tensor, examples_seen_tensor, train_accs, val_accs, label=\"accuracy\")"
   ]
  },
  {
   "cell_type": "code",
   "execution_count": 118,
   "id": "3767f564",
   "metadata": {},
   "outputs": [
    {
     "name": "stdout",
     "output_type": "stream",
     "text": [
      "Training accuracy: 99.52%\n",
      "Validation accuracy: 93.29%\n",
      "Test accuracy: 92.00%\n"
     ]
    }
   ],
   "source": [
    "train_accuracy = calc_accuracy_loader(model, train_loader, device)\n",
    "val_accuracy = calc_accuracy_loader(model, val_loader, device)\n",
    "test_accuracy = calc_accuracy_loader(model, test_loader, device)\n",
    "\n",
    "print(f\"Training accuracy: {train_accuracy*100:.2f}%\")\n",
    "print(f\"Validation accuracy: {val_accuracy*100:.2f}%\")\n",
    "print(f\"Test accuracy: {test_accuracy*100:.2f}%\")"
   ]
  },
  {
   "cell_type": "markdown",
   "id": "840837ee",
   "metadata": {},
   "source": [
    "## **Using LLM as a SPAM Classifier**"
   ]
  },
  {
   "cell_type": "markdown",
   "id": "3c088f3b",
   "metadata": {},
   "source": [
    "Step 1: Prepare inputs to the model\n",
    "\n",
    "Step 2: Truncate sequences if they too long\n",
    "    \n",
    "Step 3: Pad sequences to the longest sequence\n",
    "\n",
    "Step 4: Add batch dimension\n",
    "\n",
    "Step 5: Model inference without gradient tracking\n",
    "    \n",
    "Step 6: Logits of the last output token\n",
    "\n",
    "Step 7: Return the classified result"
   ]
  },
  {
   "cell_type": "code",
   "execution_count": 120,
   "id": "c4bac457",
   "metadata": {},
   "outputs": [],
   "source": [
    "def classify_review(text, model, tokenizer, device, max_length = None, padding_token_id = 50256):\n",
    "    model.eval()\n",
    "\n",
    "    # Inputs to the model \n",
    "    input_ids = tokenizer.encode(text) \n",
    "    supported_context_length = model.pos_emb.weight.shape[0] # Emb_dim: 1024 \n",
    "\n",
    "    # Truncate sentences if they are long \n",
    "    input_ids = input_ids[:min(max_length, supported_context_length)]\n",
    "\n",
    "    # Pad sequences to the longest sequence \n",
    "    input_ids += [padding_token_id] * (max_length - len(input_ids))\n",
    "    input_tensor = torch.tensor(input_ids, device=device).unsqueeze(0) # Add Batch Dimension \n",
    "\n",
    "    # Model inference \n",
    "    with torch.no_grad():\n",
    "        logits = model(input_tensor)[:, -1, :] #Extracting logits of last input tokens \n",
    "    predicted_label = torch.argmax(logits, dim = -1).item()\n",
    "\n",
    "    # Return the classified input \n",
    "    return \"Spam\" if predicted_label == 1 else \"Not Spam\""
   ]
  },
  {
   "cell_type": "code",
   "execution_count": 121,
   "id": "c59fd92a",
   "metadata": {},
   "outputs": [
    {
     "name": "stdout",
     "output_type": "stream",
     "text": [
      "Spam\n"
     ]
    }
   ],
   "source": [
    "text_1 = (\n",
    "    \"You won 10000$ cash award, claim it fast by clicking the link\"\n",
    ")\n",
    "\n",
    "print(classify_review(text = text_1,model = model,tokenizer = tokenizer,device = device, max_length=train_dataset.max_length))"
   ]
  },
  {
   "cell_type": "code",
   "execution_count": 122,
   "id": "ffa50c9b",
   "metadata": {},
   "outputs": [
    {
     "name": "stdout",
     "output_type": "stream",
     "text": [
      "Not Spam\n"
     ]
    }
   ],
   "source": [
    "text_2 = (\n",
    "    \"Hey, just wanted to check if we're still on\"\n",
    "    \" for dinner tonight? Let me know!\"\n",
    ")\n",
    "\n",
    "print(classify_review(\n",
    "    text_2, model, tokenizer, device, max_length=train_dataset.max_length\n",
    "))"
   ]
  },
  {
   "cell_type": "markdown",
   "id": "8a03f392",
   "metadata": {},
   "source": [
    "### **Saving & Loading Trained model Weights** "
   ]
  },
  {
   "cell_type": "code",
   "execution_count": null,
   "id": "b0099943",
   "metadata": {},
   "outputs": [],
   "source": [
    "torch.save(model.state_dict(), \"review_classifier.pth\")"
   ]
  },
  {
   "cell_type": "code",
   "execution_count": 127,
   "id": "6602f455",
   "metadata": {},
   "outputs": [],
   "source": [
    "New_model = GPTModel(GPT_CONFIG_355M)\n",
    "New_model.out_head = torch.nn.Linear(in_features=GPT_CONFIG_355M[\"emb_dim\"], out_features=2)"
   ]
  },
  {
   "cell_type": "code",
   "execution_count": 128,
   "id": "f8304536",
   "metadata": {},
   "outputs": [
    {
     "data": {
      "text/plain": [
       "<All keys matched successfully>"
      ]
     },
     "execution_count": 128,
     "metadata": {},
     "output_type": "execute_result"
    }
   ],
   "source": [
    "model_state_dict = torch.load(\"review_classifier.pth\")\n",
    "New_model.load_state_dict(model_state_dict)"
   ]
  },
  {
   "cell_type": "code",
   "execution_count": 131,
   "id": "8c2082f9",
   "metadata": {},
   "outputs": [
    {
     "name": "stdout",
     "output_type": "stream",
     "text": [
      "Spam\n"
     ]
    }
   ],
   "source": [
    "text_1 = (\n",
    "    \"You won 10000$ cash award, claim it fast by clicking the link\"\n",
    ")\n",
    "\n",
    "print(classify_review(text = text_1,model = New_model, tokenizer = tokenizer,device = device, max_length=train_dataset.max_length))"
   ]
  }
 ],
 "metadata": {
  "kernelspec": {
   "display_name": "venv",
   "language": "python",
   "name": "python3"
  },
  "language_info": {
   "codemirror_mode": {
    "name": "ipython",
    "version": 3
   },
   "file_extension": ".py",
   "mimetype": "text/x-python",
   "name": "python",
   "nbconvert_exporter": "python",
   "pygments_lexer": "ipython3",
   "version": "3.10.11"
  }
 },
 "nbformat": 4,
 "nbformat_minor": 5
}
